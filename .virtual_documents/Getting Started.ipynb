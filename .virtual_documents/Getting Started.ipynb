


!pip install tensorflow opencv-python matplotlib


pip list


import tensorflow as tf
import os





import cv2
import imghdr


data_dir = 'data'


image_exts = ['jpeg', 'jpg', 'bmp', 'png']


for image_class in os.listdir(data_dir):
    for image in os.listdir(os.path.join(data_dir, image_class)):
        image_path = os.path.join(data_dir, image_class, image)
        try:
            img = cv2.imread(image_path)
            tip = imghdr.what(image_path)
            if tip not in image_exts:
                print("Image not in ext list{}".format(image_path))
                os.remove(image_path)
        except Exception as e:
            print("Issue with image {}".format(image.path))





import numpy as np
from matplotlib import pyplot as plt


data = tf.keras.utils.image_dataset_from_directory('data')


data_iterator = data.as_numpy_iterator()


# iterator to get another batch of data
batch = data_iterator.next()


# Images being represented as numpy arrays
batch[0].shape


# Class 0 = burnable
# Class 1 = cans
# Class 2 = glass bottles
# Class 3 = non-burnable
# Class 4 = oversized waste
# Class 5 = pet bottles
# Class 6 = plastic materials
# Class 7 = recyclable paper
batch[1]


fig, ax = plt.subplots(ncols = 4, figsize = (20,20))
for idx, img in enumerate(batch[0][:4]):
    ax[idx].imshow(img.astype(int))
    ax[idx].title.set_text(batch[1][idx])








data = data.map(lambda x,y: (x/255,y))


scaled_iterator = data.as_numpy_iterator()


batch = scaled_iterator.next()


fig, ax = plt.subplots(ncols = 4, figsize = (20,20))
for idx, img in enumerate(batch[0][:4]):
    ax[idx].imshow(img)
    ax[idx].title.set_text(batch[1][idx])





len(data)


train_size = int(len(data)*.7)


val_size = int(len(data)*.2) + 1


test_size = int(len(data)*.1) + 1


train_size + val_size + test_size


train = data.take(train_size)
val = data.skip(train_size).take(val_size)
test = data.skip(train_size + val_size).take(test_size)








from tensorflow.keras.models import Sequential
from tensorflow.keras.layers import Conv2D, MaxPooling2D, Dense, Flatten, Dropout, BatchNormalization, Input
from tensorflow.keras.utils import to_categorical


model = Sequential()


model.add(Input(shape=(256, 256, 3)))

model.add(Conv2D(16, (3,3), activation='relu'))
model.add(MaxPooling2D())
model.add(Dropout(0.3))  # Adding dropout after the first MaxPooling layer

model.add(Conv2D(32, (3,3), 1, activation='relu'))
model.add(MaxPooling2D())
model.add(Dropout(0.3))  # Adding dropout after the first MaxPooling layer

model.add(Conv2D(16, (3,3), 1, activation='relu'))
model.add(MaxPooling2D())
model.add(Dropout(0.3))  # Adding dropout after the first MaxPooling layer

model.add(Flatten())

model.add(Dense(256, activation='relu'))
model.add(Dropout(0.5))  # Adding dropout after the first MaxPooling layer

# we have 8 classes so we need softmax activation function
model.add(Dense(8, activation='softmax'))


model.compile(optimizer='adam', loss='sparse_categorical_crossentropy', metrics=['accuracy'])


model.summary()


logdir='logs'


tensorboard_callback = tf.keras.callbacks.TensorBoard(log_dir=logdir)


hist = model.fit(train, epochs=20, validation_data=(val), callbacks=[tensorboard_callback])


hist.history





fig = plt.figure()
plt.plot(hist.history['loss'], color='teal', label='loss')
plt.plot(hist.history['val_loss'], color='orange', label='val_loss')
fig.suptitle('Loss', fontsize=20)
plt.legend(loc="upper left")
plt.show()


fig = plt.figure()
plt.plot(hist.history['accuracy'], color='teal', label='accuracy')
plt.plot(hist.history['val_accuracy'], color='orange', label='val_accuracy')
fig.suptitle('Accuracy', fontsize=20)
plt.legend(loc="upper left")
plt.show()





from tensorflow.keras.metrics import Precision, Recall, CategoricalAccuracy


pre = Precision()
re = Recall()
acc = CategoricalAccuracy()


# Iterate over batches in the test dataset
for batch in test.as_numpy_iterator():
    X, y = batch
    yhat = model.predict(X)

    # Check dimensions of yhat and y
    print("yhat shape:", yhat.shape)
    print("y shape:", y.shape)

    # Convert yhat to class predictions (for multi-class classification)
    if yhat.ndim == 2:  # shape (batch_size, num_classes)
        yhat_classes = np.argmax(yhat, axis=-1)
    else:
        raise ValueError("Unexpected shape for yhat")

    # Convert y to class indices if it is one-hot encoded
    if y.ndim == 2:  # shape (batch_size, num_classes)
        y_classes = np.argmax(y, axis=-1)
    elif y.ndim == 1:  # shape (batch_size,)
        y_classes = y
    else:
        raise ValueError("Unexpected shape for y")

    # Update metrics
    pre.update_state(y_classes, yhat_classes)
    re.update_state(y_classes, yhat_classes)
    acc.update_state(y_classes, yhat_classes)


# Compute metrics
precision_result = pre.result().numpy()
recall_result = re.result().numpy()
accuracy_result = acc.result().numpy()

print(f"Precision: {precision_result}")
print(f"Recall: {recall_result}")
print(f"Accuracy: {accuracy_result}")





import cv2


img = cv2.imread('bed.png')
plt.imshow(cv2.cvtColor(img, cv2.COLOR_BGR2RGB))
plt.show()


resize = tf.image.resize(img, (256, 256))
plt.imshow(resize.numpy().astype(int))
plt.show()


yhat = model.predict(np.expand_dims(resize/255, 0))


yhat


# Class labels
class_labels = [
    'burnable',            # Class 0
    'cans',                # Class 1
    'glass bottles',       # Class 2
    'non-burnable',        # Class 3
    'oversized waste',     # Class 4
    'pet bottles',         # Class 5
    'plastic materials',   # Class 6
    'recyclable paper'     # Class 7
]

prob_array = yhat

# Traverse the array and map probabilities to class labels
for i, probs in enumerate(prob_array):
    # Find the index of the maximum probability
    predicted_class_index = np.argmax(probs)
    predicted_class_label = class_labels[predicted_class_index]
    
    print(f"Probabilities: {probs}")
    print(f"Predicted Class: {predicted_class_label} (Class {predicted_class_index})")



